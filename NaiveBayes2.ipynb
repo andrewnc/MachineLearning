{
 "cells": [
  {
   "cell_type": "markdown",
   "metadata": {
    "collapsed": true
   },
   "source": [
    "Andrew Carr"
   ]
  },
  {
   "cell_type": "markdown",
   "metadata": {},
   "source": [
    "## Imports"
   ]
  },
  {
   "cell_type": "code",
   "execution_count": 110,
   "metadata": {
    "collapsed": true
   },
   "outputs": [],
   "source": [
    "import numpy as np\n",
    "import pandas as pd\n",
    "import matplotlib.pyplot as plt\n",
    "from sklearn import datasets\n",
    "from sklearn.model_selection import train_test_split\n",
    "from sklearn.linear_model import LogisticRegression\n",
    "from sklearn import svm\n",
    "from sklearn.naive_bayes import GaussianNB, MultinomialNB\n",
    "\n",
    "\n",
    "from sklearn.metrics import roc_curve\n",
    "\n",
    "plt.style.use(\"ggplot\")\n"
   ]
  },
  {
   "cell_type": "markdown",
   "metadata": {},
   "source": [
    "# Problem 1\n",
    "Find some aspect of your final research project where a naïve Bayes classifier is appropriate, and apply Naive Bayes to that.  Compare the result to what logistic regression and support vector machines give you on the same data. "
   ]
  },
  {
   "cell_type": "code",
   "execution_count": 119,
   "metadata": {
    "collapsed": true
   },
   "outputs": [],
   "source": [
    "bronze = pd.read_csv(\"bronze.csv\")\n",
    "silver = pd.read_csv(\"silver.csv\")\n",
    "gold = pd.read_csv(\"gold.csv\")\n",
    "plat = pd.read_csv(\"plat.csv\")\n",
    "platplus = pd.read_csv(\"platplus.csv\")\n",
    "data = [[bronze, 'bronze'], [silver, 'silver'], [gold, 'gold'], [plat, 'plat'], [platplus, 'platplus']]"
   ]
  },
  {
   "cell_type": "code",
   "execution_count": 134,
   "metadata": {
    "collapsed": false
   },
   "outputs": [
    {
     "name": "stdout",
     "output_type": "stream",
     "text": [
      "\n",
      "bronze\n",
      "\n",
      "Naive Bayes 0.5961538461538461\n",
      "Logistic Regression 0.8653846153846154\n",
      "SVM 0.23076923076923078\n",
      "\n",
      "silver\n",
      "\n",
      "Naive Bayes 0.45098039215686275\n",
      "Logistic Regression 0.9019607843137255\n",
      "SVM 0.29411764705882354\n",
      "\n",
      "gold\n",
      "\n",
      "Naive Bayes 0.56\n",
      "Logistic Regression 0.96\n",
      "SVM 0.28\n",
      "\n",
      "plat\n",
      "\n",
      "Naive Bayes 0.5098039215686274\n",
      "Logistic Regression 0.9215686274509803\n",
      "SVM 0.3137254901960784\n",
      "\n",
      "platplus\n",
      "\n",
      "Naive Bayes 0.49019607843137253\n",
      "Logistic Regression 0.9019607843137255\n",
      "SVM 0.27450980392156865\n"
     ]
    },
    {
     "name": "stderr",
     "output_type": "stream",
     "text": [
      "/usr/local/lib/python3.6/site-packages/sklearn/utils/validation.py:526: DataConversionWarning: A column-vector y was passed when a 1d array was expected. Please change the shape of y to (n_samples, ), for example using ravel().\n",
      "  y = column_or_1d(y, warn=True)\n"
     ]
    }
   ],
   "source": [
    "y = ['Role_Code']\n",
    "x = ['Win Percent','Minions Killed', 'Total Healing', 'Team Jungle CS','Kills', 'Assists', 'Deaths', 'Damage Dealt', 'Damage Taken', 'Gold Earned']\n",
    "nb_clf = MultinomialNB()\n",
    "log_clf = LogisticRegression()\n",
    "svm_clf = svm.SVC()\n",
    "\n",
    "for datum, label in data:\n",
    "    train_x, test_x, train_y, test_y = train_test_split(datum[x], datum[y])\n",
    "    nb_clf.fit(train_x, train_y)\n",
    "    log_clf.fit(train_x, train_y)\n",
    "    svm_clf.fit(train_x, train_y)\n",
    "    \n",
    "    print(\"\\n\" + label + \"\\n\")\n",
    "\n",
    "    print(\"Naive Bayes {}\".format(nb_clf.score(test_x, test_y)))\n",
    "    print(\"Logistic Regression {}\".format(log_clf.score(test_x, test_y)))\n",
    "    print(\"SVM {}\".format(svm_clf.score(test_x, test_y)))\n",
    "    \n",
    "    \n",
    "\n",
    "    "
   ]
  },
  {
   "cell_type": "markdown",
   "metadata": {},
   "source": [
    "As you notice, since my problem is a multi category problem which means NB and SVM use one vs one or one vs rest and those are not robust methods for these classifiers which excel at binary classification. However, logistic regression, which has a higher multi category capacity performs very well as we see in the test accuracy above. This is quite interesting since we are trying to predict champion role in LoL data. Obviously my project will have a much more detailed explaination of the data. But for now, this is an interesting result that compares the classifiers. "
   ]
  },
  {
   "cell_type": "markdown",
   "metadata": {},
   "source": [
    "# Problem 2\n",
    "Plot the ROC (scikit-learn has an ROC function you can use) for the following classifiers on the scikit-learn cancer dataset\n",
    "1. naïve Bayes,\n",
    "\n",
    "2. logistic regression, and\n",
    "\n",
    "3. support vector machines (with probabilities, not just classification)"
   ]
  },
  {
   "cell_type": "markdown",
   "metadata": {},
   "source": [
    "<hr>"
   ]
  },
  {
   "cell_type": "code",
   "execution_count": 85,
   "metadata": {
    "collapsed": false
   },
   "outputs": [
    {
     "data": {
      "image/png": "[encoded data removed]",
      "text/plain": [
       "<matplotlib.figure.Figure at 0x10ed45748>"
      ]
     },
     "metadata": {},
     "output_type": "display_data"
    }
   ],
   "source": [
    "data = datasets.load_breast_cancer()\n",
    "train_x, test_x, train_y, test_y = train_test_split(data.data, data.target, train_size=0.7)\n",
    "\n",
    "nb_clf = GaussianNB()\n",
    "log_clf = LogisticRegression()\n",
    "svm_clf = svm.SVC(probability=True)\n",
    "\n",
    "# fit our models\n",
    "nb_clf.fit(train_x, train_y)\n",
    "log_clf.fit(train_x, train_y)\n",
    "svm_clf.fit(train_x, train_y)\n",
    "\n",
    "# get the probability of both classes\n",
    "nb_pred = nb_clf.predict_proba(test_x)\n",
    "log_pred = log_clf.predict_proba(test_x)\n",
    "svm_pred = svm_clf.predict_proba(test_x)\n",
    "\n",
    "# we have to pull out the probability of a positive\n",
    "nb_fpr, nb_tpr, nb_threshold = roc_curve(test_y,nb_pred[:,1])\n",
    "log_fpr, log_tpr, log_threshold = roc_curve(test_y, log_pred[:,1])\n",
    "svm_fpr, svm_tpr, svm_threshold = roc_curve(test_y, svm_pred[:,1])\n",
    "\n",
    "# notice that 1's are encoded as benign vs malignant\n",
    "plt.plot(nb_fpr, nb_tpr, label=\"naive bayes\")\n",
    "plt.plot(log_fpr, log_tpr, label=\"logistic regression\")\n",
    "plt.plot(svm_fpr, svm_tpr, label=\"svm\")\n",
    "plt.plot(np.linspace(0,1,100), np.linspace(0,1,100))\n",
    "\n",
    "plt.title(\"Comparison of ROC curves\")\n",
    "plt.xlabel(\"False Positive Rate\")\n",
    "plt.ylabel(\"True Positive Rate\")\n",
    "plt.legend()\n",
    "plt.show()"
   ]
  },
  {
   "cell_type": "markdown",
   "metadata": {},
   "source": [
    "# Problem 3\n",
    "Describe an appropriate cost function of the form a*FPR + b*FNR (that is, choose meaningful values of a and b) for the cancer dataset, assuming you are an insurance company that has to pay medical costs of treatment and also life insurance at death for each patient.  Given that cost function, use the ROC in the traditional manner (not Jarvis's new way) to identify the optimal choice of threshold τ for each of the three classifiers in part 2"
   ]
  },
  {
   "cell_type": "markdown",
   "metadata": {},
   "source": [
    "<hr>"
   ]
  },
  {
   "cell_type": "markdown",
   "metadata": {},
   "source": [
    "Just notice that a is associated with death and b is associated with medical expense. That is because benign is 1 in our dataset. This is important because it means that False Positives means we claim it is benign when it is infact malignant. And False Negatives means we claim that it isn't benign when it is. Therefore, we as a caring profession, care more about False Positives and want to prevent those. Since no cost can be put on a human life. "
   ]
  },
  {
   "cell_type": "code",
   "execution_count": 104,
   "metadata": {
    "collapsed": false
   },
   "outputs": [
    {
     "name": "stdout",
     "output_type": "stream",
     "text": [
      "\n",
      "naive bayes threshold 0.9999289067479927\n",
      "\n",
      "logistic threshold 0.9239827626504489\n",
      "\n",
      "svm threshold 0.5854728106107705\n",
      "\n",
      "\n"
     ]
    }
   ],
   "source": [
    "a, b = 10, 1\n",
    "nb_costs = np.array([[a*nb_fpr[i]+b*(1-nb_tpr[i]), nb_threshold[i]] for i in range(len(nb_fpr))])\n",
    "log_costs = np.array([[a*log_fpr[i]+b*(1-log_tpr[i]), log_threshold[i]] for i in range(len(log_fpr))])\n",
    "svm_costs = np.array([[a*svm_fpr[i]+b*(1-svm_tpr[i]), svm_threshold[i]] for i in range(len(svm_fpr))])\n",
    "\n",
    "print(\"\"\"\n",
    "naive bayes threshold {}\\n\n",
    "logistic threshold {}\\n\n",
    "svm threshold {}\\n\n",
    "\"\"\".format(sorted(nb_costs, key=lambda x:x[0])[0][1], sorted(log_costs, key=lambda x:x[0])[0][1], sorted(svm_costs, key=lambda x:x[0])[0][1]))"
   ]
  }
 ],
 "metadata": {
  "anaconda-cloud": {},
  "kernelspec": {
   "display_name": "Python 3",
   "language": "python",
   "name": "python3"
  },
  "language_info": {
   "codemirror_mode": {
    "name": "ipython",
    "version": 3
   },
   "file_extension": ".py",
   "mimetype": "text/x-python",
   "name": "python",
   "nbconvert_exporter": "python",
   "pygments_lexer": "ipython3",
   "version": "3.6.2"
  }
 },
 "nbformat": 4,
 "nbformat_minor": 2
}
