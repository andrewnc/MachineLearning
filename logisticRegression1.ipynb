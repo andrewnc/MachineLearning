{
 "cells": [
  {
   "cell_type": "markdown",
   "metadata": {},
   "source": [
    "## Imports"
   ]
  },
  {
   "cell_type": "code",
   "execution_count": 9,
   "metadata": {
    "collapsed": false
   },
   "outputs": [],
   "source": [
    "import statsmodels.api as sm\n",
    "import statsmodels.formula.api as smf\n",
    "import pandas as pd\n",
    "import numpy as np"
   ]
  },
  {
   "cell_type": "code",
   "execution_count": 2,
   "metadata": {
    "collapsed": false
   },
   "outputs": [],
   "source": [
    "titanic_data = pd.read_csv(\"titanic.csv\")"
   ]
  },
  {
   "cell_type": "code",
   "execution_count": 3,
   "metadata": {
    "collapsed": false
   },
   "outputs": [
    {
     "data": {
      "text/html": [
       "<div>\n",
       "<style>\n",
       "    .dataframe thead tr:only-child th {\n",
       "        text-align: right;\n",
       "    }\n",
       "\n",
       "    .dataframe thead th {\n",
       "        text-align: left;\n",
       "    }\n",
       "\n",
       "    .dataframe tbody tr th {\n",
       "        vertical-align: top;\n",
       "    }\n",
       "</style>\n",
       "<table border=\"1\" class=\"dataframe\">\n",
       "  <thead>\n",
       "    <tr style=\"text-align: right;\">\n",
       "      <th></th>\n",
       "      <th>const</th>\n",
       "      <th>Survived</th>\n",
       "      <th>Name</th>\n",
       "      <th>Age</th>\n",
       "      <th>Sibsp</th>\n",
       "      <th>Parch</th>\n",
       "      <th>Ticket</th>\n",
       "      <th>Fare</th>\n",
       "      <th>Cabin</th>\n",
       "      <th>Boat</th>\n",
       "      <th>Body</th>\n",
       "      <th>home.dest</th>\n",
       "      <th>Embarked_Q</th>\n",
       "      <th>Embarked_S</th>\n",
       "      <th>Sex_male</th>\n",
       "      <th>Pclass_2</th>\n",
       "      <th>Pclass_3</th>\n",
       "    </tr>\n",
       "  </thead>\n",
       "  <tbody>\n",
       "    <tr>\n",
       "      <th>1260</th>\n",
       "      <td>1.0</td>\n",
       "      <td>1</td>\n",
       "      <td>Turja, Miss. Anna Sofia</td>\n",
       "      <td>18.0</td>\n",
       "      <td>0</td>\n",
       "      <td>0</td>\n",
       "      <td>4138</td>\n",
       "      <td>9.8417</td>\n",
       "      <td>NaN</td>\n",
       "      <td>15</td>\n",
       "      <td>NaN</td>\n",
       "      <td>NaN</td>\n",
       "      <td>0</td>\n",
       "      <td>1</td>\n",
       "      <td>0</td>\n",
       "      <td>0</td>\n",
       "      <td>1</td>\n",
       "    </tr>\n",
       "    <tr>\n",
       "      <th>447</th>\n",
       "      <td>1.0</td>\n",
       "      <td>0</td>\n",
       "      <td>Hocking, Mr. Richard George</td>\n",
       "      <td>23.0</td>\n",
       "      <td>2</td>\n",
       "      <td>1</td>\n",
       "      <td>29104</td>\n",
       "      <td>11.5000</td>\n",
       "      <td>NaN</td>\n",
       "      <td>NaN</td>\n",
       "      <td>NaN</td>\n",
       "      <td>Cornwall / Akron, OH</td>\n",
       "      <td>0</td>\n",
       "      <td>1</td>\n",
       "      <td>1</td>\n",
       "      <td>1</td>\n",
       "      <td>0</td>\n",
       "    </tr>\n",
       "  </tbody>\n",
       "</table>\n",
       "</div>"
      ],
      "text/plain": [
       "      const  Survived                         Name   Age  Sibsp  Parch Ticket  \\\n",
       "1260    1.0         1      Turja, Miss. Anna Sofia  18.0      0      0   4138   \n",
       "447     1.0         0  Hocking, Mr. Richard George  23.0      2      1  29104   \n",
       "\n",
       "         Fare Cabin Boat  Body             home.dest  Embarked_Q  Embarked_S  \\\n",
       "1260   9.8417   NaN   15   NaN                   NaN           0           1   \n",
       "447   11.5000   NaN  NaN   NaN  Cornwall / Akron, OH           0           1   \n",
       "\n",
       "      Sex_male  Pclass_2  Pclass_3  \n",
       "1260         0         0         1  \n",
       "447          1         1         0  "
      ]
     },
     "execution_count": 3,
     "metadata": {},
     "output_type": "execute_result"
    }
   ],
   "source": [
    "# building out our dummy columns to assist in logistic regression\n",
    "titanic_data = pd.get_dummies(titanic_data, columns=['Embarked', 'Sex', 'Pclass'], drop_first=True)\n",
    "titanic_data = titanic_data.fillna({\"Age\":titanic_data.Age.mean(), \"Fare\":titanic_data.Fare.mean()})\n",
    "titanic_data = sm.add_constant(titanic_data)\n",
    "\n",
    "# get our target\n",
    "y = titanic_data.Survived\n",
    "\n",
    "titanic_data.sample(2)"
   ]
  },
  {
   "cell_type": "markdown",
   "metadata": {},
   "source": [
    "## a)"
   ]
  },
  {
   "cell_type": "code",
   "execution_count": 4,
   "metadata": {
    "collapsed": false
   },
   "outputs": [
    {
     "name": "stdout",
     "output_type": "stream",
     "text": [
      "Optimization terminated successfully.\n",
      "         Current function value: 0.647951\n",
      "         Iterations 4\n",
      "                           Logit Regression Results                           \n",
      "==============================================================================\n",
      "Dep. Variable:               Survived   No. Observations:                 1309\n",
      "Model:                          Logit   Df Residuals:                     1306\n",
      "Method:                           MLE   Df Model:                            2\n",
      "Date:                Sat, 13 Jan 2018   Pseudo R-squ.:                 0.02567\n",
      "Time:                        10:52:08   Log-Likelihood:                -848.17\n",
      "converged:                       True   LL-Null:                       -870.51\n",
      "                                        LLR p-value:                 1.977e-10\n",
      "==============================================================================\n",
      "                 coef    std err          z      P>|z|      [0.025      0.975]\n",
      "------------------------------------------------------------------------------\n",
      "const          0.2364      0.122      1.936      0.053      -0.003       0.476\n",
      "Embarked_Q    -0.8216      0.224     -3.664      0.000      -1.261      -0.382\n",
      "Embarked_S    -0.9328      0.141     -6.622      0.000      -1.209      -0.657\n",
      "==============================================================================\n"
     ]
    }
   ],
   "source": [
    "model = sm.Logit(y, titanic_data[['const', 'Embarked_Q', 'Embarked_S']])\n",
    "results = model.fit()\n",
    "print(results.summary())"
   ]
  },
  {
   "cell_type": "markdown",
   "metadata": {},
   "source": [
    "Notice that both Q and S are statistically significant"
   ]
  },
  {
   "cell_type": "markdown",
   "metadata": {},
   "source": [
    "## b)"
   ]
  },
  {
   "cell_type": "code",
   "execution_count": 5,
   "metadata": {
    "collapsed": false,
    "scrolled": true
   },
   "outputs": [
    {
     "name": "stdout",
     "output_type": "stream",
     "text": [
      "Optimization terminated successfully.\n",
      "         Current function value: 0.463653\n",
      "         Iterations 6\n",
      "                           Logit Regression Results                           \n",
      "==============================================================================\n",
      "Dep. Variable:               Survived   No. Observations:                 1309\n",
      "Model:                          Logit   Df Residuals:                     1301\n",
      "Method:                           MLE   Df Model:                            7\n",
      "Date:                Sat, 13 Jan 2018   Pseudo R-squ.:                  0.3028\n",
      "Time:                        10:52:08   Log-Likelihood:                -606.92\n",
      "converged:                       True   LL-Null:                       -870.51\n",
      "                                        LLR p-value:                1.145e-109\n",
      "==============================================================================\n",
      "                 coef    std err          z      P>|z|      [0.025      0.975]\n",
      "------------------------------------------------------------------------------\n",
      "const          3.7792      0.372     10.165      0.000       3.050       4.508\n",
      "Embarked_Q    -0.4474      0.292     -1.532      0.126      -1.020       0.125\n",
      "Embarked_S    -0.6814      0.186     -3.662      0.000      -1.046      -0.317\n",
      "Age           -0.0325      0.006     -5.270      0.000      -0.045      -0.020\n",
      "Fare          -0.0004      0.002     -0.214      0.830      -0.004       0.003\n",
      "Sex_male      -2.4987      0.153    -16.384      0.000      -2.798      -2.200\n",
      "Pclass_2      -1.0011      0.239     -4.183      0.000      -1.470      -0.532\n",
      "Pclass_3      -2.0398      0.235     -8.676      0.000      -2.501      -1.579\n",
      "==============================================================================\n"
     ]
    }
   ],
   "source": [
    "model = sm.Logit(y, titanic_data[['const', 'Embarked_Q', 'Embarked_S', 'Age', 'Fare', 'Sex_male', 'Pclass_2', 'Pclass_3']])\n",
    "results = model.fit()\n",
    "print(results.summary())"
   ]
  },
  {
   "cell_type": "markdown",
   "metadata": {},
   "source": [
    "In this case we see that Fare and embarked Q are not statistically significant while all of the other pieces of information are. This means that city of departure is not significant at all. It is also quite interesting to notice that being Male seems to drastically decrease survivale rates, as we would expect."
   ]
  },
  {
   "cell_type": "markdown",
   "metadata": {},
   "source": [
    "## Example of prediction"
   ]
  },
  {
   "cell_type": "code",
   "execution_count": 6,
   "metadata": {
    "collapsed": false
   },
   "outputs": [
    {
     "data": {
      "text/plain": [
       "const                           1\n",
       "Survived                        0\n",
       "Name          Baumann, Mr. John D\n",
       "Age                       29.8811\n",
       "Sibsp                           0\n",
       "Parch                           0\n",
       "Ticket                   PC 17318\n",
       "Fare                       25.925\n",
       "Cabin                         NaN\n",
       "Boat                          NaN\n",
       "Body                          NaN\n",
       "home.dest            New York, NY\n",
       "Embarked_Q                      0\n",
       "Embarked_S                      1\n",
       "Sex_male                        1\n",
       "Pclass_2                        0\n",
       "Pclass_3                        0\n",
       "Name: 15, dtype: object"
      ]
     },
     "execution_count": 6,
     "metadata": {},
     "output_type": "execute_result"
    }
   ],
   "source": [
    "titanic_data.iloc[15]"
   ]
  },
  {
   "cell_type": "code",
   "execution_count": 7,
   "metadata": {
    "collapsed": false
   },
   "outputs": [],
   "source": [
    "preds = results.predict(titanic_data.iloc[15][['const', 'Embarked_Q', 'Embarked_S', 'Age', 'Fare', 'Sex_male', 'Pclass_2', 'Pclass_3']].astype(float))"
   ]
  },
  {
   "cell_type": "code",
   "execution_count": 8,
   "metadata": {
    "collapsed": false
   },
   "outputs": [
    {
     "data": {
      "text/plain": [
       "const         0.405815\n",
       "Embarked_Q    0.405815\n",
       "Embarked_S    0.405815\n",
       "Age           0.405815\n",
       "Fare          0.405815\n",
       "Sex_male      0.405815\n",
       "Pclass_2      0.405815\n",
       "Pclass_3      0.405815\n",
       "dtype: float64"
      ]
     },
     "execution_count": 8,
     "metadata": {},
     "output_type": "execute_result"
    }
   ],
   "source": [
    "preds"
   ]
  },
  {
   "cell_type": "markdown",
   "metadata": {},
   "source": [
    "It looks like we would have properly predicted that Mr Baumann would not have survived"
   ]
  },
  {
   "cell_type": "markdown",
   "metadata": {},
   "source": [
    "## c)"
   ]
  },
  {
   "cell_type": "markdown",
   "metadata": {},
   "source": [
    "No, it would be silly to assume it did. We have to assume that there is some lurking dependence. It it very likely that more people in a lower p_class embarked as a certain city, while more rich people embarked at a certain other city. This would make much more sense than some weird correlation between city and survival rates"
   ]
  }
 ],
 "metadata": {
  "anaconda-cloud": {},
  "kernelspec": {
   "display_name": "Python 3",
   "language": "python",
   "name": "python3"
  },
  "language_info": {
   "codemirror_mode": {
    "name": "ipython",
    "version": 3
   },
   "file_extension": ".py",
   "mimetype": "text/x-python",
   "name": "python",
   "nbconvert_exporter": "python",
   "pygments_lexer": "ipython3",
   "version": "3.6.2"
  }
 },
 "nbformat": 4,
 "nbformat_minor": 1
}
